{
  "nbformat": 4,
  "nbformat_minor": 0,
  "metadata": {
    "colab": {
      "name": "goldmanSachsCodingQuestions.ipynb",
      "version": "0.3.2",
      "provenance": [],
      "collapsed_sections": [],
      "include_colab_link": true
    },
    "kernelspec": {
      "name": "python3",
      "display_name": "Python 3"
    }
  },
  "cells": [
    {
      "cell_type": "markdown",
      "metadata": {
        "id": "view-in-github",
        "colab_type": "text"
      },
      "source": [
        "<a href=\"https://colab.research.google.com/github/Okarin123/myPythonCodes/blob/master/goldmanSachsCodingQuestions.ipynb\" target=\"_parent\"><img src=\"https://colab.research.google.com/assets/colab-badge.svg\" alt=\"Open In Colab\"/></a>"
      ]
    },
    {
      "cell_type": "markdown",
      "metadata": {
        "id": "5Ma4oNhuoqsJ",
        "colab_type": "text"
      },
      "source": [
        "The below cell is the **O(N logN) time solution** to **Smallest Lexicographic subsequence of length k** problem. The solution uses a **Sparse Table** to optimize the range minimum query. The sparse table uses auxilary storage of size **O(N logN)**. \n",
        "\n",
        "This code gives an optimal solution despite its **greedy approach**.\n",
        "\n",
        "\n",
        "\n",
        "\n"
      ]
    },
    {
      "cell_type": "code",
      "metadata": {
        "id": "N7AwpV2Loncm",
        "colab_type": "code",
        "outputId": "d5be8bc9-a2a6-4e30-da39-f400de233f37",
        "colab": {
          "base_uri": "https://localhost:8080/",
          "height": 34
        }
      },
      "source": [
        "from math import log\n",
        "\n",
        "def query(X,L,R): \n",
        "  st=X[\"Table\"]\n",
        "  pos=X[\"Position\"] \n",
        "  \n",
        "  j=int(log(R-L+1,2))\n",
        "  if st[L][j]>st[R+1-(1<<j)][j]: \n",
        "    return pos[R+1-(1<<j)][j] \n",
        "  else: \n",
        "    return pos[L][j]  \n",
        "  \n",
        "def buildTable(A): #Building Sparse Table \n",
        "  \n",
        "  N=len(A)\n",
        "  K=int(log(N,2))+1\n",
        "  st=[[0]*K for x in range (N)] \n",
        "  pos=[[0]*K for x in range (N)]\n",
        "  \n",
        "  for i in range (N): \n",
        "    st[i][0]=A[i] \n",
        "    pos[i][0]=i \n",
        "    \n",
        "  for j in range (1,K+1): \n",
        "    i=0 \n",
        "    while i+(1<<j)<=N: \n",
        "      if st[i][j-1]>st[i+(1<<(j-1))][j-1]: \n",
        "        st[i][j]=st[i+(1<<(j-1))][j-1] \n",
        "        pos[i][j]=pos[i+(1<<(j-1))][j-1]\n",
        "      else: \n",
        "        st[i][j]=st[i][j-1]\n",
        "        pos[i][j]=pos[i][j-1]\n",
        "      i+=1 \n",
        "  \n",
        "  return {\"Table\":st,\"Position\":pos}\n",
        "\n",
        "def smallestLex(string,k): \n",
        "  \n",
        "  hashMap=buildTable(string) \n",
        "  n=len(string) \n",
        "  l,r=0,n-k\n",
        "  subSeq=\"\" \n",
        "  \n",
        "  while r<n: \n",
        "    idx=query(hashMap,l,r) \n",
        "    subSeq+=string[idx] \n",
        "    l=idx+1 \n",
        "    r+=1 \n",
        "    \n",
        "  return subSeq \n",
        "\n",
        "try: \n",
        "  A=\"acdabd\" \n",
        "  print(smallestLex(A,3))\n",
        "except: \n",
        "  print(\"k should be smaller than string length\")"
      ],
      "execution_count": 0,
      "outputs": [
        {
          "output_type": "stream",
          "text": [
            "aab\n"
          ],
          "name": "stdout"
        }
      ]
    },
    {
      "cell_type": "markdown",
      "metadata": {
        "id": "gU5zIENwJxBP",
        "colab_type": "text"
      },
      "source": [
        "The below cell is the **Linear time solution** to **Minimum fees to learn all three cricket skills** problem. The solution also has been optimized for space, and uses **O(1)** storage\n",
        "\n",
        "Although it might not look like it, this solution is a **Dynamic programming** solution, because it **solves subproblems optimally and builds upon** it.  \n",
        "\n",
        "\n",
        "\n",
        "\n",
        "\n"
      ]
    },
    {
      "cell_type": "code",
      "metadata": {
        "id": "ib8AesC-dRbM",
        "colab_type": "code",
        "outputId": "6d02d4b7-4a92-4d38-e9ba-a6addbedfede",
        "colab": {
          "base_uri": "https://localhost:8080/",
          "height": 34
        }
      },
      "source": [
        "def minCost(course): #course is a 2-D list \n",
        "  \n",
        "  n=len(course) \n",
        "  for i in range (n): \n",
        "    course[i][1]=set(course[i][1]) #Convert string to set of courses  \n",
        "  \n",
        "  inf = 1e10\n",
        "  minA,minB,minC = inf,inf,inf \n",
        "  \n",
        "  for i in range (n):  \n",
        "    fees=course[i][0]\n",
        "    skills=course[i][1] \n",
        "    \n",
        "    if 'A' in skills: \n",
        "      minA = min(minA,fees) \n",
        "    if 'B' in skills: \n",
        "      minB = min(minB,fees) \n",
        "    if 'C' in skills: \n",
        "      minC = min(minC,fees) \n",
        "  \n",
        "  if minA==inf or minB==inf or minC==inf: \n",
        "    return -1 \n",
        "  \n",
        "  minAB,minAC,minBC=inf,inf,inf\n",
        "  for i in range (n): \n",
        "    fees=course[i][0] \n",
        "    skills=course[i][1] \n",
        "    \n",
        "    if \"A\" in skills and \"B\" in skills:\n",
        "      minAB = min(minAB,fees) \n",
        "    if \"B\" in skills and \"C\" in skills: \n",
        "      minBC = min(minAC,fees) \n",
        "    if \"A\" in skills and \"C\" in skills: \n",
        "      minAC = min(minAC,fees) \n",
        "  \n",
        "  minAB = min(minAB,minA+minB) \n",
        "  minAC = min(minAC,minA+minC)\n",
        "  minBC = min(minBC,minB+minC) \n",
        "  \n",
        "  minABC=inf \n",
        "  for i in range (n): \n",
        "    fees=course[i][0]\n",
        "    skills=course[i][1] \n",
        "    \n",
        "    if \"A\" in skills and \"B\" in skills and \"C\" in skills: \n",
        "      minABC=min(minABC,fees) \n",
        "  \n",
        "  minABC=min(minABC,minAB+minC,minAC+minB,minBC+minA) \n",
        "  return minABC\n",
        "\n",
        "try: \n",
        "  #test is 2-D List with first fees then string of courses offered\n",
        "  test=[[10,\"A\"],[10,\"B\"],[10,\"C\"],[15,\"ABC\"]]  \n",
        "  print(minCost(test))\n",
        "except: \n",
        "  print(\"Enter input correctly!\")"
      ],
      "execution_count": 0,
      "outputs": [
        {
          "output_type": "stream",
          "text": [
            "23\n"
          ],
          "name": "stdout"
        }
      ]
    },
    {
      "cell_type": "markdown",
      "metadata": {
        "id": "5VHWxbhHIo9N",
        "colab_type": "text"
      },
      "source": [
        "The below two cells are **Linear time solutions** to **probability of knight to remain on chessboard** after n moves.\n",
        "\n",
        "1.   The first solution uses **O(n)** auxilary storage.\n",
        "2.   The second one has been optimized for space: it uses **O(1)** storage\n",
        "\n",
        "The solutions implemented are using **Dynamic programming**\n",
        "\n",
        "\n",
        "\n",
        "\n",
        "\n"
      ]
    },
    {
      "cell_type": "code",
      "metadata": {
        "id": "2kKdl8u5Ze74",
        "colab_type": "code",
        "outputId": "115b65b9-eca8-4c1c-b182-c4860ae9a8ad",
        "colab": {
          "base_uri": "https://localhost:8080/",
          "height": 34
        }
      },
      "source": [
        "def calcProbability(ipos,jpos,n): \n",
        "  \n",
        "  finalAns = [[[0]*(n+1) for x in range (8)] for x in range (8)]  \n",
        "  \n",
        "  for x in range (8): \n",
        "    for y in range (8): \n",
        "      finalAns[x][y][0]=1.0 \n",
        "  \n",
        "  for k in range (1,n+1): \n",
        "    for x in range (8): \n",
        "      for y in range (8): \n",
        "        \n",
        "        prob = 0 \n",
        "        correctMoves = [] \n",
        "        possibleMoves = [[x-1,y-2],[x-1,y+2],[x+1,y-2],[x+1,y+2],\n",
        "                        [x-2,y-1],[x-2,y+1],[x+2,y-1],[x+2,y+1]] \n",
        "        for move in possibleMoves: \n",
        "          i,j=move[0],move[1] \n",
        "          if i in range (8) and j in range (8): \n",
        "            correctMoves.append([i,j]) \n",
        "        for move in correctMoves: \n",
        "          i,j=move[0],move[1] \n",
        "          prob += finalAns[i][j][k-1] \n",
        "        \n",
        "        finalAns[x][y][k] = prob*(1/8)\n",
        "\n",
        "  return finalAns[ipos][jpos][n] \n",
        "\n",
        "try: \n",
        "  #Enter inputs: initial i pos, jpos and moves; indexing starts with 0\n",
        "  print(calcProbability(1,1,2)) \n",
        "except IndexError: \n",
        "  print(\"Enter apt. start point!\")\n",
        "        "
      ],
      "execution_count": 0,
      "outputs": [
        {
          "output_type": "stream",
          "text": [
            "0.375\n"
          ],
          "name": "stdout"
        }
      ]
    },
    {
      "cell_type": "code",
      "metadata": {
        "id": "6gF8H46-I8tM",
        "colab_type": "code",
        "outputId": "84a3a47f-1f5c-4246-cdcc-61658e3be7c5",
        "colab": {
          "base_uri": "https://localhost:8080/",
          "height": 34
        }
      },
      "source": [
        "def calcProbability(ipos,jpos,n):\n",
        "  \n",
        "  prev = [[1.0]*8 for x in range (8)] \n",
        " \n",
        "  for k in range (1,n+1):\n",
        "    new = [[0]*8 for x in range (8)]\n",
        "    for x in range (8): \n",
        "      for y in range (8): \n",
        "        \n",
        "        prob = 0 \n",
        "        correctMoves = [] \n",
        "        possibleMoves = [[x-1,y-2],[x-1,y+2],[x+1,y-2],[x+1,y+2],\n",
        "                        [x-2,y-1],[x-2,y+1],[x+2,y-1],[x+2,y+1]] \n",
        "        for move in possibleMoves: \n",
        "          i,j=move[0],move[1] \n",
        "          if i in range (8) and j in range (8): \n",
        "            correctMoves.append([i,j]) \n",
        "        for move in correctMoves: \n",
        "          i,j=move[0],move[1] \n",
        "          prob += prev[i][j] \n",
        "        \n",
        "        new[x][y] = prob*(1/8) \n",
        "\n",
        "    prev = new\n",
        "\n",
        "  return prev[ipos][jpos] \n",
        "\n",
        "try: \n",
        "  print(calcProbability(7,7,30))\n",
        "except IndexError: \n",
        "  print(\"Enter apt. start point!\")\n"
      ],
      "execution_count": 0,
      "outputs": [
        {
          "output_type": "stream",
          "text": [
            "5.711462788905093e-05\n"
          ],
          "name": "stdout"
        }
      ]
    },
    {
      "cell_type": "code",
      "metadata": {
        "id": "8kNrpsFBR4y1",
        "colab_type": "code",
        "outputId": "587f7fee-5f2d-474b-9e4b-c29263cb2fd0",
        "colab": {
          "base_uri": "https://localhost:8080/",
          "height": 68
        }
      },
      "source": [
        "import heapq\n",
        "A=[12,2,3,1]\n",
        "heapq._heapify_max(A)\n",
        "print(A)\n",
        "print(heapq.heappush(A,12)) \n",
        "print(heapq.heappop(A))  "
      ],
      "execution_count": 0,
      "outputs": [
        {
          "output_type": "stream",
          "text": [
            "[12, 2, 3, 1]\n",
            "None\n",
            "12\n"
          ],
          "name": "stdout"
        }
      ]
    },
    {
      "cell_type": "code",
      "metadata": {
        "id": "-UuSWOlMb_yY",
        "colab_type": "code",
        "colab": {}
      },
      "source": [
        ""
      ],
      "execution_count": 0,
      "outputs": []
    }
  ]
}