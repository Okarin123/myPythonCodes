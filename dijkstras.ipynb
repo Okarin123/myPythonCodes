{
  "nbformat": 4,
  "nbformat_minor": 0,
  "metadata": {
    "colab": {
      "name": "dijkstras.ipynb",
      "version": "0.3.2",
      "provenance": [],
      "collapsed_sections": [],
      "include_colab_link": true
    },
    "kernelspec": {
      "name": "python3",
      "display_name": "Python 3"
    }
  },
  "cells": [
    {
      "cell_type": "markdown",
      "metadata": {
        "id": "view-in-github",
        "colab_type": "text"
      },
      "source": [
        "<a href=\"https://colab.research.google.com/github/Okarin123/myPythonCodes/blob/master/dijkstras.ipynb\" target=\"_parent\"><img src=\"https://colab.research.google.com/assets/colab-badge.svg\" alt=\"Open In Colab\"/></a>"
      ]
    },
    {
      "cell_type": "code",
      "metadata": {
        "id": "6ktFdJlrpoNq",
        "colab_type": "code",
        "outputId": "db76a9d9-e924-4f8f-c1f1-571100d8be8d",
        "colab": {
          "base_uri": "https://localhost:8080/",
          "height": 34
        }
      },
      "source": [
        "def update(heap,heapPos,u): \n",
        "  \n",
        "  n = len(heap)\n",
        "  \n",
        "  dist,node = heap[u][0],heap[u][1] \n",
        "  parent,childA,childB = False,False,False\n",
        "  if u>0: \n",
        "    parent = True \n",
        "  if 2*u+1<n: \n",
        "    childA = True \n",
        "  if 2*u+2<n: \n",
        "    childB = True \n",
        "    \n",
        "  if parent: \n",
        "    parentPos = u//2 \n",
        "    parentDist,parentNode = heap[parentPos][0],heap[parentPos][1] \n",
        "    \n",
        "    if parentDist>dist: \n",
        "      heap[u],heap[parentPos] = heap[parentPos],heap[u] \n",
        "      heapPos[node],heapPos[parentNode] = heapPos[parentNode],heapPos[node]\n",
        "      update (heap,heapPos,parentPos) \n",
        "      \n",
        "  if childA and not childB: \n",
        "    childPos = 2*u+1\n",
        "    childDist,childNode = heap[childPos][0],heap[childPos][1]\n",
        "  if childB and not childA: \n",
        "    childPos = 2*u+2 \n",
        "    childDist,childNode = heap[childPos][0],heap[childPos][1] \n",
        "  if childA and childB:\n",
        "    if heap[2*u+1][0]>heap[2*u+2][0]: \n",
        "      childPos = 2*u+1\n",
        "      childDist,childNode = heap[childPos][0],heap[childPos][1]\n",
        "    else: \n",
        "      childPos = 2*u+2 \n",
        "      childDist,childNode = heap[childPos][0],heap[childPos][1] \n",
        "  \n",
        "  if childA or childB: \n",
        "    \n",
        "    if childDist<dist: \n",
        "      heap[u],heap[childPos] = heap[childPos],heap[u]\n",
        "      heapPos[node],heapPos[childNode] = heapPos[childNode],heapPos[node] \n",
        "      update (heap,heapPos,childPos)\n",
        "    \n",
        "def dijkstra(g,weight,source,dest,n):\n",
        "  \n",
        "  inf = 0 \n",
        "  for edge in weight.values(): \n",
        "    inf += edge\n",
        "  inf += 1 \n",
        "  \n",
        "  heap = [(inf,i) for i in range (n)] #dist,node\n",
        "  heapPos = dict() \n",
        "  minDist = [-1]*n \n",
        "  for i in range (n): \n",
        "    heapPos[i] = i \n",
        "    \n",
        "  idx = heapPos[source] \n",
        "  visited = dict() \n",
        "  heap[idx] = (0,source) \n",
        "  update(heap,heapPos,idx) \n",
        "  \n",
        "  for i in range (n-1):  \n",
        "    popped = heap[0] \n",
        "    dist,u = popped[0],popped[1] \n",
        "    minDist[u] = dist \n",
        "    visited[u] = True \n",
        "    \n",
        "    last = heap.pop() \n",
        "    lastNode = last[1] \n",
        "    heapPos[lastNode] = 0 \n",
        "    heap[0] = last \n",
        "    update(heap,heapPos,0) \n",
        "    \n",
        "    for v in g[u]:\n",
        "      if v not in visited: \n",
        "        e = (u,v)\n",
        "        eWeight = weight[e] \n",
        "      \n",
        "        idx = heapPos[v] \n",
        "        new = min(heap[idx][0],dist+eWeight) \n",
        "        heap[idx] = (new,heap[idx][1]) \n",
        "        update(heap,heapPos,idx) \n",
        "\n",
        "  \n",
        "  minDist[heap[0][1]] = heap[0][0]\n",
        "  return minDist[dest] \n",
        "\n",
        "start,dest = 1,5\n",
        "n,m = 5,5 \n",
        "edges=[[1,2,3],[1,3,5],[3,2,7],[2,5,6],[3,4,8]] \n",
        "\n",
        "g = dict() \n",
        "weight = dict()  \n",
        "\n",
        "for edge in edges:\n",
        "  u,v,cost = edge[0],edge[1],edge[2] \n",
        "  g.setdefault(u-1,list()).append(v-1) \n",
        "  g.setdefault(v-1,list()).append(u-1) \n",
        "  weight.setdefault((u-1,v-1),cost) \n",
        "  weight.setdefault((v-1,u-1),cost)\n",
        "  \n",
        "print(dijkstra(g,weight,1,3,5))"
      ],
      "execution_count": 0,
      "outputs": [
        {
          "output_type": "stream",
          "text": [
            "15\n"
          ],
          "name": "stdout"
        }
      ]
    }
  ]
}